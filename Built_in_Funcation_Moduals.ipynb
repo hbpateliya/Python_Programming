{
  "nbformat": 4,
  "nbformat_minor": 0,
  "metadata": {
    "colab": {
      "provenance": []
    },
    "kernelspec": {
      "name": "python3",
      "display_name": "Python 3"
    },
    "language_info": {
      "name": "python"
    }
  },
  "cells": [
    {
      "cell_type": "markdown",
      "source": [
        "# **BUILT IN FUNCATION**"
      ],
      "metadata": {
        "id": "KtTpPD97jxMZ"
      }
    },
    {
      "cell_type": "code",
      "source": [
        "# 1. Print\n",
        "print(\"hello\")"
      ],
      "metadata": {
        "id": "2MAQiPXtsiCC",
        "colab": {
          "base_uri": "https://localhost:8080/"
        },
        "outputId": "5641703b-c8c0-40c6-b65e-f77c4888e939"
      },
      "execution_count": null,
      "outputs": [
        {
          "output_type": "stream",
          "name": "stdout",
          "text": [
            "hello\n"
          ]
        }
      ]
    },
    {
      "cell_type": "code",
      "source": [
        "# 2 input\n",
        "input(\"enter name: \")"
      ],
      "metadata": {
        "id": "nWxjlZ8zsiFn",
        "colab": {
          "base_uri": "https://localhost:8080/",
          "height": 53
        },
        "outputId": "9ffb709f-8e4d-4b3a-e00c-9e7f1721aa1f"
      },
      "execution_count": null,
      "outputs": [
        {
          "name": "stdout",
          "output_type": "stream",
          "text": [
            "enter name: hitesh\n"
          ]
        },
        {
          "output_type": "execute_result",
          "data": {
            "text/plain": [
              "'hitesh'"
            ],
            "application/vnd.google.colaboratory.intrinsic+json": {
              "type": "string"
            }
          },
          "metadata": {},
          "execution_count": 3
        }
      ]
    },
    {
      "cell_type": "code",
      "source": [
        "# type\n",
        "a= 3\n",
        "b= 3.2\n",
        "print(type(a))\n",
        "print(type(b))"
      ],
      "metadata": {
        "id": "l6Z5wOx1siI7",
        "colab": {
          "base_uri": "https://localhost:8080/"
        },
        "outputId": "f11e8424-b70f-4452-ef20-d133824afd13"
      },
      "execution_count": null,
      "outputs": [
        {
          "output_type": "stream",
          "name": "stdout",
          "text": [
            "<class 'int'>\n",
            "<class 'float'>\n"
          ]
        }
      ]
    },
    {
      "cell_type": "code",
      "source": [
        "# 4. int etc..\n",
        "int(5)"
      ],
      "metadata": {
        "id": "LqgtV0ppsiMn",
        "colab": {
          "base_uri": "https://localhost:8080/"
        },
        "outputId": "f2f2084f-2f4f-4922-9a95-833850cb0d9b"
      },
      "execution_count": null,
      "outputs": [
        {
          "output_type": "execute_result",
          "data": {
            "text/plain": [
              "5"
            ]
          },
          "metadata": {},
          "execution_count": 7
        }
      ]
    },
    {
      "cell_type": "code",
      "source": [
        "# 5 absulate\n",
        "abs(-4)"
      ],
      "metadata": {
        "colab": {
          "base_uri": "https://localhost:8080/"
        },
        "id": "73mCHSGNkpqX",
        "outputId": "85827ccb-ad68-48b3-f0fb-6a15b25a1bd3"
      },
      "execution_count": null,
      "outputs": [
        {
          "output_type": "execute_result",
          "data": {
            "text/plain": [
              "4"
            ]
          },
          "metadata": {},
          "execution_count": 11
        }
      ]
    },
    {
      "cell_type": "code",
      "source": [
        "# 6 power\n",
        "pow(2,5)"
      ],
      "metadata": {
        "colab": {
          "base_uri": "https://localhost:8080/"
        },
        "id": "asckjKnukpdk",
        "outputId": "a2d026e6-63a7-4a60-f7db-9699519c62ab"
      },
      "execution_count": null,
      "outputs": [
        {
          "output_type": "execute_result",
          "data": {
            "text/plain": [
              "32"
            ]
          },
          "metadata": {},
          "execution_count": 17
        }
      ]
    },
    {
      "cell_type": "code",
      "source": [
        "# 7. min/max\n",
        "min(1,2,3,4)\n",
        "max(1,2,3,4)"
      ],
      "metadata": {
        "colab": {
          "base_uri": "https://localhost:8080/"
        },
        "id": "Z0Es8nZYkpCb",
        "outputId": "3c25d312-2500-499e-b96e-213e09f93212"
      },
      "execution_count": null,
      "outputs": [
        {
          "output_type": "execute_result",
          "data": {
            "text/plain": [
              "4"
            ]
          },
          "metadata": {},
          "execution_count": 19
        }
      ]
    },
    {
      "cell_type": "code",
      "source": [
        "# 8. Round\n",
        "c = 22/7\n",
        "print(round(c))\n",
        "round(c,2)\n"
      ],
      "metadata": {
        "id": "Y1MntPZ4siP1",
        "colab": {
          "base_uri": "https://localhost:8080/"
        },
        "outputId": "d3c6b0e9-0a54-4c3a-ec0a-da426345bfca"
      },
      "execution_count": null,
      "outputs": [
        {
          "output_type": "stream",
          "name": "stdout",
          "text": [
            "3\n"
          ]
        },
        {
          "output_type": "execute_result",
          "data": {
            "text/plain": [
              "3.14"
            ]
          },
          "metadata": {},
          "execution_count": 29
        }
      ]
    },
    {
      "cell_type": "code",
      "source": [
        "# 9. divmod\n",
        "divmod(10,3)"
      ],
      "metadata": {
        "id": "KCsabGUPsiTg",
        "colab": {
          "base_uri": "https://localhost:8080/"
        },
        "outputId": "1920150c-4537-463d-8502-6aab497b4151"
      },
      "execution_count": null,
      "outputs": [
        {
          "output_type": "execute_result",
          "data": {
            "text/plain": [
              "(3, 1)"
            ]
          },
          "metadata": {},
          "execution_count": 30
        }
      ]
    },
    {
      "cell_type": "code",
      "source": [
        "# 10 bin/oct/hex\n",
        "print(bin(10))\n",
        "print(oct(10))\n",
        "print(hex(10))"
      ],
      "metadata": {
        "id": "R9SB8udTsiXh",
        "colab": {
          "base_uri": "https://localhost:8080/"
        },
        "outputId": "c7fd3c9f-ba53-4c1a-f48b-10079907d335"
      },
      "execution_count": null,
      "outputs": [
        {
          "output_type": "stream",
          "name": "stdout",
          "text": [
            "0b1010\n",
            "0o12\n",
            "0xa\n"
          ]
        }
      ]
    },
    {
      "cell_type": "code",
      "source": [
        "# 11 id\n",
        "a =12\n",
        "print(id(a))"
      ],
      "metadata": {
        "id": "gwDTAL3ysibm",
        "colab": {
          "base_uri": "https://localhost:8080/"
        },
        "outputId": "7379d8c2-4f94-4bae-e4ec-7cb5dd0d82e7"
      },
      "execution_count": null,
      "outputs": [
        {
          "output_type": "stream",
          "name": "stdout",
          "text": [
            "10751208\n"
          ]
        }
      ]
    },
    {
      "cell_type": "code",
      "source": [
        "# 12 ord - show ASCII No\n",
        "print(ord('a'))\n",
        "print(ord('A'))"
      ],
      "metadata": {
        "colab": {
          "base_uri": "https://localhost:8080/"
        },
        "id": "vd09aotcnDVG",
        "outputId": "a96f7d63-eef6-457f-e073-21ba642decf5"
      },
      "execution_count": null,
      "outputs": [
        {
          "output_type": "stream",
          "name": "stdout",
          "text": [
            "97\n",
            "65\n"
          ]
        }
      ]
    },
    {
      "cell_type": "code",
      "source": [
        "# 13 len\n",
        "print(len('hello'))"
      ],
      "metadata": {
        "colab": {
          "base_uri": "https://localhost:8080/"
        },
        "id": "Z0ZpMOoDnDen",
        "outputId": "f389a6b3-a0d9-49e5-b1b4-af792d5029b8"
      },
      "execution_count": null,
      "outputs": [
        {
          "output_type": "stream",
          "name": "stdout",
          "text": [
            "5\n"
          ]
        }
      ]
    },
    {
      "cell_type": "code",
      "source": [
        "# 14 sum\n",
        "print(sum([1,2,3,4]))"
      ],
      "metadata": {
        "colab": {
          "base_uri": "https://localhost:8080/"
        },
        "id": "6gW8fEXwnDlS",
        "outputId": "984cd51b-4807-4d42-ec96-bde40d95d106"
      },
      "execution_count": null,
      "outputs": [
        {
          "output_type": "stream",
          "name": "stdout",
          "text": [
            "10\n"
          ]
        }
      ]
    },
    {
      "cell_type": "code",
      "source": [
        "# 15 help\n",
        "help(sum)"
      ],
      "metadata": {
        "colab": {
          "base_uri": "https://localhost:8080/"
        },
        "id": "lHrMmutcnDpU",
        "outputId": "4f3c39ad-9872-4450-d36c-cebb5dee8621"
      },
      "execution_count": null,
      "outputs": [
        {
          "output_type": "stream",
          "name": "stdout",
          "text": [
            "Help on built-in function sum in module builtins:\n",
            "\n",
            "sum(iterable, /, start=0)\n",
            "    Return the sum of a 'start' value (default: 0) plus an iterable of numbers\n",
            "    \n",
            "    When the iterable is empty, return the start value.\n",
            "    This function is intended specifically for use with numeric values and may\n",
            "    reject non-numeric types.\n",
            "\n"
          ]
        }
      ]
    },
    {
      "cell_type": "markdown",
      "source": [
        "# **USER DEFINE FUNCATION**"
      ],
      "metadata": {
        "id": "jxUO14H4WfUo"
      }
    },
    {
      "cell_type": "code",
      "source": [
        "def func():\n",
        "    print(\"Hello World\")\n",
        "func()"
      ],
      "metadata": {
        "colab": {
          "base_uri": "https://localhost:8080/"
        },
        "id": "GIU9a3S_WtFx",
        "outputId": "5d677587-01c3-4132-b966-8d5e18b3a690"
      },
      "execution_count": null,
      "outputs": [
        {
          "output_type": "stream",
          "name": "stdout",
          "text": [
            "Hello World\n"
          ]
        }
      ]
    },
    {
      "cell_type": "code",
      "source": [
        "def greet():\n",
        "  print(\"hello\")\n",
        "  print(\"Good Morning\")\n",
        "greet()"
      ],
      "metadata": {
        "colab": {
          "base_uri": "https://localhost:8080/"
        },
        "id": "WmYjK4KeWtTI",
        "outputId": "cf0fe3f9-3435-43f1-dfa9-7d6093132455"
      },
      "execution_count": null,
      "outputs": [
        {
          "output_type": "stream",
          "name": "stdout",
          "text": [
            "hello\n",
            "Good Morning\n"
          ]
        }
      ]
    },
    {
      "cell_type": "code",
      "source": [
        "def greet(name):\n",
        "  print(\"hello\",name)\n",
        "greet(\"Rahul\")"
      ],
      "metadata": {
        "colab": {
          "base_uri": "https://localhost:8080/"
        },
        "id": "P9ZCOrrXWta1",
        "outputId": "bc51297a-d093-4054-c568-9f929876846f"
      },
      "execution_count": null,
      "outputs": [
        {
          "output_type": "stream",
          "name": "stdout",
          "text": [
            "hello Rahul\n"
          ]
        }
      ]
    },
    {
      "cell_type": "code",
      "source": [
        "def add(x,y,z):\n",
        "  c=x+y+z\n",
        "  print(c)\n",
        "add(1,4,5)"
      ],
      "metadata": {
        "colab": {
          "base_uri": "https://localhost:8080/"
        },
        "id": "5FRLIpvlYAX8",
        "outputId": "4be5cfde-9f25-42e7-c8df-c0ceda724adb"
      },
      "execution_count": null,
      "outputs": [
        {
          "output_type": "stream",
          "name": "stdout",
          "text": [
            "10\n"
          ]
        }
      ]
    },
    {
      "cell_type": "code",
      "source": [
        "def my_function(fname):\n",
        "  print(fname)\n",
        "\n",
        "my_function(\"Hello\")\n",
        "my_function(\"World\")\n",
        "my_function(\"Hi\")"
      ],
      "metadata": {
        "colab": {
          "base_uri": "https://localhost:8080/"
        },
        "id": "qrnrc3EsYAiW",
        "outputId": "f0c95dea-317f-4a7f-bc26-6acf36bb645c"
      },
      "execution_count": null,
      "outputs": [
        {
          "output_type": "stream",
          "name": "stdout",
          "text": [
            "Hello\n",
            "World\n",
            "Hi\n"
          ]
        }
      ]
    },
    {
      "cell_type": "code",
      "source": [
        "def name(fname,lname):\n",
        "  print(fname+\" \"+lname)\n",
        "name(\"Rahul\",\"Kumar\")"
      ],
      "metadata": {
        "colab": {
          "base_uri": "https://localhost:8080/"
        },
        "id": "SlxQB2p2YAkT",
        "outputId": "44376ae8-c6f8-49e4-b285-bd5c9a6a7043"
      },
      "execution_count": null,
      "outputs": [
        {
          "output_type": "stream",
          "name": "stdout",
          "text": [
            "Rahul Kumar\n"
          ]
        }
      ]
    },
    {
      "cell_type": "code",
      "source": [
        "def my_function(*name):\n",
        "  print(\"Your name is \" + name[1])\n",
        "\n",
        "my_function(\"Hitesh\",\"Dhaval\",\"Om\")"
      ],
      "metadata": {
        "colab": {
          "base_uri": "https://localhost:8080/"
        },
        "id": "E6A3VSZJYApF",
        "outputId": "f90593cc-07fc-4ed1-d076-318efacd8e6a"
      },
      "execution_count": null,
      "outputs": [
        {
          "output_type": "stream",
          "name": "stdout",
          "text": [
            "Your name is Dhaval\n"
          ]
        }
      ]
    },
    {
      "cell_type": "code",
      "source": [
        "def my_function(child3, child2, child1):\n",
        "  print(\"The youngest child is \" + child2)\n",
        "\n",
        "my_function(child1 = \"Hitesh\", child2 = \"Dhaval\", child3 = \"Om\")"
      ],
      "metadata": {
        "colab": {
          "base_uri": "https://localhost:8080/"
        },
        "id": "LR1BB1TIdcBb",
        "outputId": "0739735e-d2d9-4f51-c257-f9457c92b5fa"
      },
      "execution_count": null,
      "outputs": [
        {
          "output_type": "stream",
          "name": "stdout",
          "text": [
            "The youngest child is Dhaval\n"
          ]
        }
      ]
    },
    {
      "cell_type": "code",
      "source": [
        "def my_function(**ipl):\n",
        "  print(\"Your Fav. IPL team is \" + ipl[\"lname\"])\n",
        "  print(\"Your Fav. IPL team is \" + ipl[\"fname\"])\n",
        "\n",
        "my_function(fname = \"CSK\", lname = \"RCB\")"
      ],
      "metadata": {
        "colab": {
          "base_uri": "https://localhost:8080/"
        },
        "id": "HUFiU9R4YArK",
        "outputId": "eea4efcc-34dd-4153-8efa-d7b5a3e647ed"
      },
      "execution_count": null,
      "outputs": [
        {
          "output_type": "stream",
          "name": "stdout",
          "text": [
            "Your Fav. IPL team is RCB\n",
            "Your Fav. IPL team is CSK\n"
          ]
        }
      ]
    },
    {
      "cell_type": "code",
      "source": [
        "# Defalut Parameter\n",
        "def my_function(country = \"Norway\"):\n",
        "  print(\"I am from \" + country)\n",
        "\n",
        "my_function(\"Sweden\")\n",
        "my_function(\"India\")\n",
        "my_function()\n",
        "my_function(\"Brazil\")"
      ],
      "metadata": {
        "colab": {
          "base_uri": "https://localhost:8080/"
        },
        "id": "tMFKnmB9YAwI",
        "outputId": "6cd4138a-2c36-41c6-e7dc-c2639b45ad8a"
      },
      "execution_count": null,
      "outputs": [
        {
          "output_type": "stream",
          "name": "stdout",
          "text": [
            "I am from Sweden\n",
            "I am from India\n",
            "I am from Norway\n",
            "I am from Brazil\n"
          ]
        }
      ]
    },
    {
      "cell_type": "code",
      "source": [
        "def my_function(food):\n",
        "  for x in food:\n",
        "    print(x)\n",
        "\n",
        "fruits = [\"apple\", \"banana\", \"cherry\"]\n",
        "\n",
        "my_function(fruits)"
      ],
      "metadata": {
        "colab": {
          "base_uri": "https://localhost:8080/"
        },
        "id": "VOBwHddGYC5G",
        "outputId": "26425c76-099f-4699-8c67-3db86376e194"
      },
      "execution_count": null,
      "outputs": [
        {
          "output_type": "stream",
          "name": "stdout",
          "text": [
            "apple\n",
            "banana\n",
            "cherry\n"
          ]
        }
      ]
    },
    {
      "cell_type": "code",
      "source": [
        "#Return Values\n",
        "def my_function(x):\n",
        "  return 5 * x\n",
        "\n",
        "print(my_function(3))\n",
        "print(my_function(5))\n",
        "print(my_function(9))"
      ],
      "metadata": {
        "colab": {
          "base_uri": "https://localhost:8080/"
        },
        "id": "FyABqJe9YDBA",
        "outputId": "4087fb87-7506-4f23-a10c-ea2b6aea9414"
      },
      "execution_count": null,
      "outputs": [
        {
          "output_type": "stream",
          "name": "stdout",
          "text": [
            "15\n",
            "25\n",
            "45\n"
          ]
        }
      ]
    },
    {
      "cell_type": "code",
      "source": [
        "# The pass Statement\n",
        "def myfunction():\n",
        "  pass"
      ],
      "metadata": {
        "id": "Rf0_URGTYDC6"
      },
      "execution_count": null,
      "outputs": []
    },
    {
      "cell_type": "code",
      "source": [
        "# Positional-Only Arguments\n",
        "def my_function(x, /):\n",
        "  print(x)\n",
        "\n",
        "my_function(3)"
      ],
      "metadata": {
        "colab": {
          "base_uri": "https://localhost:8080/"
        },
        "id": "9CsdlwVQYDIE",
        "outputId": "b32815de-4e8e-4458-976c-6aedba28e238"
      },
      "execution_count": null,
      "outputs": [
        {
          "output_type": "stream",
          "name": "stdout",
          "text": [
            "3\n"
          ]
        }
      ]
    },
    {
      "cell_type": "code",
      "source": [
        "# Keyword-Only Arguments\n",
        "def my_function(*, x):\n",
        "  print(x)\n",
        "\n",
        "my_function(x = 3)"
      ],
      "metadata": {
        "colab": {
          "base_uri": "https://localhost:8080/"
        },
        "id": "DW2RiAW2YDKi",
        "outputId": "8a529dce-6e3d-4b68-b691-2c35b3101c91"
      },
      "execution_count": null,
      "outputs": [
        {
          "output_type": "stream",
          "name": "stdout",
          "text": [
            "3\n"
          ]
        }
      ]
    },
    {
      "cell_type": "code",
      "source": [
        "# Combine Positional-Only and Keyword-Only\n",
        "def my_function(a, b, /, *, c, d):\n",
        "  print(a + b + c + d)\n",
        "\n",
        "my_function(5, 6, c = 7, d = 8)"
      ],
      "metadata": {
        "colab": {
          "base_uri": "https://localhost:8080/"
        },
        "id": "LwdBO-YPWti7",
        "outputId": "a15281e4-e7be-446e-a640-e1650a0bec20"
      },
      "execution_count": null,
      "outputs": [
        {
          "output_type": "stream",
          "name": "stdout",
          "text": [
            "26\n"
          ]
        }
      ]
    },
    {
      "cell_type": "markdown",
      "source": [
        "# **BUILT IN MODUALS**"
      ],
      "metadata": {
        "id": "BGr2mkEBhqiV"
      }
    },
    {
      "cell_type": "code",
      "source": [
        "import math"
      ],
      "metadata": {
        "id": "THJsbS8hnDyO"
      },
      "execution_count": null,
      "outputs": []
    },
    {
      "cell_type": "code",
      "source": [
        "math.pi"
      ],
      "metadata": {
        "id": "UBlrGhkcnD2g",
        "colab": {
          "base_uri": "https://localhost:8080/"
        },
        "outputId": "f6855a69-6699-49a9-c8f1-fcdc7a84eb95"
      },
      "execution_count": null,
      "outputs": [
        {
          "output_type": "execute_result",
          "data": {
            "text/plain": [
              "3.141592653589793"
            ]
          },
          "metadata": {},
          "execution_count": 2
        }
      ]
    },
    {
      "cell_type": "code",
      "source": [
        "math.e"
      ],
      "metadata": {
        "id": "gms9KfdFnD6n",
        "colab": {
          "base_uri": "https://localhost:8080/"
        },
        "outputId": "77bbac52-096e-4ce6-f038-3a17abd824fd"
      },
      "execution_count": null,
      "outputs": [
        {
          "output_type": "execute_result",
          "data": {
            "text/plain": [
              "2.718281828459045"
            ]
          },
          "metadata": {},
          "execution_count": 3
        }
      ]
    },
    {
      "cell_type": "code",
      "source": [
        "math.factorial(6)"
      ],
      "metadata": {
        "id": "JQ8RXtEMnD-p",
        "colab": {
          "base_uri": "https://localhost:8080/"
        },
        "outputId": "14f545aa-3e1e-43c5-aa80-9eeef6bdddf5"
      },
      "execution_count": null,
      "outputs": [
        {
          "output_type": "execute_result",
          "data": {
            "text/plain": [
              "720"
            ]
          },
          "metadata": {},
          "execution_count": 6
        }
      ]
    },
    {
      "cell_type": "code",
      "source": [
        "math.sqrt(25)"
      ],
      "metadata": {
        "colab": {
          "base_uri": "https://localhost:8080/"
        },
        "id": "HwqGKxdUiKpd",
        "outputId": "01359692-1180-4c86-9ff1-a3946afcb437"
      },
      "execution_count": null,
      "outputs": [
        {
          "output_type": "execute_result",
          "data": {
            "text/plain": [
              "5.0"
            ]
          },
          "metadata": {},
          "execution_count": 7
        }
      ]
    },
    {
      "cell_type": "code",
      "source": [
        "math.floor(2.5)"
      ],
      "metadata": {
        "colab": {
          "base_uri": "https://localhost:8080/"
        },
        "id": "9L3Tr8XTiNxr",
        "outputId": "05d89750-18eb-41dd-a145-40d6a0689ec4"
      },
      "execution_count": null,
      "outputs": [
        {
          "output_type": "execute_result",
          "data": {
            "text/plain": [
              "2"
            ]
          },
          "metadata": {},
          "execution_count": 8
        }
      ]
    },
    {
      "cell_type": "code",
      "source": [
        "# RANDOM MODUAL"
      ],
      "metadata": {
        "id": "rtA1ucmBiN7d"
      },
      "execution_count": null,
      "outputs": []
    },
    {
      "cell_type": "code",
      "source": [
        "import random"
      ],
      "metadata": {
        "id": "HAUe8_8miOA4"
      },
      "execution_count": null,
      "outputs": []
    },
    {
      "cell_type": "code",
      "source": [
        "random.randint(1,100)"
      ],
      "metadata": {
        "colab": {
          "base_uri": "https://localhost:8080/"
        },
        "id": "JIP6_6u0iOFQ",
        "outputId": "1b1affa5-7fd9-4569-dcb8-f44413e76472"
      },
      "execution_count": null,
      "outputs": [
        {
          "output_type": "execute_result",
          "data": {
            "text/plain": [
              "73"
            ]
          },
          "metadata": {},
          "execution_count": 10
        }
      ]
    },
    {
      "cell_type": "code",
      "source": [
        "a=[1,2,3,4]\n",
        "random.shuffle(a)\n",
        "a"
      ],
      "metadata": {
        "colab": {
          "base_uri": "https://localhost:8080/"
        },
        "id": "ABrggELIiOJU",
        "outputId": "0c756246-8730-4662-b12e-77fd15b021e4"
      },
      "execution_count": null,
      "outputs": [
        {
          "output_type": "execute_result",
          "data": {
            "text/plain": [
              "[4, 1, 3, 2]"
            ]
          },
          "metadata": {},
          "execution_count": 15
        }
      ]
    },
    {
      "cell_type": "code",
      "source": [
        "# TIME MODUAL\n",
        "import time"
      ],
      "metadata": {
        "id": "10---D5Kinf9"
      },
      "execution_count": null,
      "outputs": []
    },
    {
      "cell_type": "code",
      "source": [
        "time.time()"
      ],
      "metadata": {
        "colab": {
          "base_uri": "https://localhost:8080/"
        },
        "id": "-jft7VNVinvG",
        "outputId": "9d51f192-53dd-4a91-93f9-7ffac4102e1e"
      },
      "execution_count": null,
      "outputs": [
        {
          "output_type": "execute_result",
          "data": {
            "text/plain": [
              "1745510741.4399252"
            ]
          },
          "metadata": {},
          "execution_count": 20
        }
      ]
    },
    {
      "cell_type": "code",
      "source": [
        "time.ctime()"
      ],
      "metadata": {
        "colab": {
          "base_uri": "https://localhost:8080/",
          "height": 35
        },
        "id": "icNdDWvTin26",
        "outputId": "7b34fd4d-1644-4c44-dae1-ad48e7dc2045"
      },
      "execution_count": null,
      "outputs": [
        {
          "output_type": "execute_result",
          "data": {
            "text/plain": [
              "'Thu Apr 24 16:05:52 2025'"
            ],
            "application/vnd.google.colaboratory.intrinsic+json": {
              "type": "string"
            }
          },
          "metadata": {},
          "execution_count": 21
        }
      ]
    },
    {
      "cell_type": "code",
      "source": [
        "time.sleep(5)\n",
        "print(\"hello\")"
      ],
      "metadata": {
        "colab": {
          "base_uri": "https://localhost:8080/"
        },
        "id": "EUqRiGHyin7a",
        "outputId": "8783b98b-ffb9-4a43-8c73-deb2fc95c8bb"
      },
      "execution_count": null,
      "outputs": [
        {
          "output_type": "stream",
          "name": "stdout",
          "text": [
            "hello\n"
          ]
        }
      ]
    },
    {
      "cell_type": "code",
      "source": [
        " time.strftime(\"%d-%m-%Y\")"
      ],
      "metadata": {
        "colab": {
          "base_uri": "https://localhost:8080/",
          "height": 35
        },
        "id": "sUwlDzHSiOND",
        "outputId": "3c12259c-7466-4668-9938-f910b9e33baf"
      },
      "execution_count": null,
      "outputs": [
        {
          "output_type": "execute_result",
          "data": {
            "text/plain": [
              "'24-04-2025'"
            ],
            "application/vnd.google.colaboratory.intrinsic+json": {
              "type": "string"
            }
          },
          "metadata": {},
          "execution_count": 23
        }
      ]
    },
    {
      "cell_type": "code",
      "source": [
        "print('hello')\n",
        "time.sleep(1)\n",
        "print('world')"
      ],
      "metadata": {
        "colab": {
          "base_uri": "https://localhost:8080/"
        },
        "id": "IsP4uh2KiK1X",
        "outputId": "d2ad7608-abe5-4ac0-9523-d889c94fa646"
      },
      "execution_count": null,
      "outputs": [
        {
          "output_type": "stream",
          "name": "stdout",
          "text": [
            "hello\n",
            "world\n"
          ]
        }
      ]
    },
    {
      "cell_type": "code",
      "source": [
        "#OS MODUAL\n",
        "import  os"
      ],
      "metadata": {
        "id": "I9DW-9DGsifD"
      },
      "execution_count": null,
      "outputs": []
    },
    {
      "cell_type": "code",
      "source": [
        "os.getcwd()"
      ],
      "metadata": {
        "colab": {
          "base_uri": "https://localhost:8080/",
          "height": 35
        },
        "id": "nVM5Gdf2jrUL",
        "outputId": "c627652a-d864-4d8f-cafe-73020a79e515"
      },
      "execution_count": null,
      "outputs": [
        {
          "output_type": "execute_result",
          "data": {
            "text/plain": [
              "'/content'"
            ],
            "application/vnd.google.colaboratory.intrinsic+json": {
              "type": "string"
            }
          },
          "metadata": {},
          "execution_count": 29
        }
      ]
    },
    {
      "cell_type": "code",
      "source": [
        "os.listdir()"
      ],
      "metadata": {
        "colab": {
          "base_uri": "https://localhost:8080/"
        },
        "id": "vrjEDFy4jre7",
        "outputId": "4cdc986d-90cf-4b47-f9e0-973ed0e93479"
      },
      "execution_count": null,
      "outputs": [
        {
          "output_type": "execute_result",
          "data": {
            "text/plain": [
              "['.config', 'sample_data']"
            ]
          },
          "metadata": {},
          "execution_count": 31
        }
      ]
    }
  ]
}