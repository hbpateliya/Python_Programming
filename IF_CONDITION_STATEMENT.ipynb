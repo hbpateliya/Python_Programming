{
  "nbformat": 4,
  "nbformat_minor": 0,
  "metadata": {
    "colab": {
      "provenance": []
    },
    "kernelspec": {
      "name": "python3",
      "display_name": "Python 3"
    },
    "language_info": {
      "name": "python"
    }
  },
  "cells": [
    {
      "cell_type": "code",
      "execution_count": null,
      "metadata": {
        "colab": {
          "base_uri": "https://localhost:8080/"
        },
        "id": "Mk6wQxajeP-e",
        "outputId": "61db900e-e1c6-4dc2-8f5b-c2ae5269929f"
      },
      "outputs": [
        {
          "output_type": "stream",
          "name": "stdout",
          "text": [
            "Enter a number: 3\n",
            "3 is odd.\n"
          ]
        }
      ],
      "source": [
        "# Check if a number is even or odd\n",
        "input_number = int(input(\"Enter a number: \"))\n",
        "\n",
        "if input_number % 2 == 0:\n",
        "    print(f\"{input_number} is even.\")\n",
        "else:\n",
        "    print(f\"{input_number} is odd.\")"
      ]
    },
    {
      "cell_type": "code",
      "source": [
        "#Check if a person is eligible to vote (age 18 or above)\n",
        "age = int(input(\"Enter your Age\"))\n",
        "\n",
        "if age >= 18:\n",
        "    print(\"You are eligible to vote.\")\n",
        "else:\n",
        "    print(\"You are not eligible to vote.\")"
      ],
      "metadata": {
        "colab": {
          "base_uri": "https://localhost:8080/"
        },
        "id": "ZrzHWQTVe8SX",
        "outputId": "55c902b0-1ea9-4e42-ccc3-b61d1011ef5a"
      },
      "execution_count": null,
      "outputs": [
        {
          "output_type": "stream",
          "name": "stdout",
          "text": [
            "Enter your Age19\n",
            "You are eligible to vote.\n"
          ]
        }
      ]
    },
    {
      "cell_type": "code",
      "source": [
        "#Determine if a given year is a leap year or not\n",
        "leap_year = int(input(\"Enter a year: \"))\n",
        "if leap_year % 4 == 0 and (leap_year % 100 != 0 or leap_year % 400 == 0):\n",
        "    print(f\"{leap_year} is a leap year.\")\n",
        "else:\n",
        "    print(\"not Leap year\")"
      ],
      "metadata": {
        "colab": {
          "base_uri": "https://localhost:8080/"
        },
        "id": "0JIlR2pye8hN",
        "outputId": "609bb0b0-e382-4389-b696-9e23d625ba43"
      },
      "execution_count": null,
      "outputs": [
        {
          "output_type": "stream",
          "name": "stdout",
          "text": [
            "Enter a year: 2017\n",
            "not Leap year\n"
          ]
        }
      ]
    },
    {
      "cell_type": "code",
      "source": [
        "#  Check if a number is positive, negative, or zero\n",
        "num = int(input(\"Enter a number: \"))\n",
        "if num > 0:\n",
        "    print(\"Positive\")\n",
        "elif num < 0:\n",
        "    print(\"Negative\")\n",
        "else:\n",
        "    print(\"Zero\")"
      ],
      "metadata": {
        "colab": {
          "base_uri": "https://localhost:8080/"
        },
        "id": "AEEVGQe4e8nK",
        "outputId": "801a9d4c-71dd-4d33-bdd6-b121ca36fbf5"
      },
      "execution_count": null,
      "outputs": [
        {
          "output_type": "stream",
          "name": "stdout",
          "text": [
            "Enter a number: 12\n",
            "Positive\n"
          ]
        }
      ]
    },
    {
      "cell_type": "code",
      "source": [
        "# Write a program to find the greatest of two numbers\n",
        "num1 = int(input(\"Enter first number: \"))\n",
        "num2 = int(input(\"Enter second number: \"))\n",
        "if num1 > num2:\n",
        "    print(f\"{num1} is greater than {num2}.\")\n",
        "elif num1 < num2:\n",
        "    print(f\"{num2} is greater than {num1}.\")\n",
        "else:\n",
        "    print(\"Both numbers are equal.\")\n"
      ],
      "metadata": {
        "colab": {
          "base_uri": "https://localhost:8080/"
        },
        "id": "3JtCXeige8ob",
        "outputId": "82d0abe3-a440-4e29-bbf8-3837ee35354e"
      },
      "execution_count": null,
      "outputs": [
        {
          "output_type": "stream",
          "name": "stdout",
          "text": [
            "Enter first number: 12\n",
            "Enter second number: 23\n",
            "23 is greater than 12.\n"
          ]
        }
      ]
    },
    {
      "cell_type": "code",
      "source": [
        "# Determine if a number is a multiple of 5\n",
        "num = int(input(\"Enter a number: \"))\n",
        "if num % 5 == 0:\n",
        "    print(f\"{num} is a multiple of 5.\")\n",
        "else:\n",
        "    print(f\"{num} is not a multiple of 5.\")"
      ],
      "metadata": {
        "colab": {
          "base_uri": "https://localhost:8080/"
        },
        "id": "I0xHBS_le8sy",
        "outputId": "0bb46466-da13-4593-b4d7-6619cfe3e8b2"
      },
      "execution_count": null,
      "outputs": [
        {
          "output_type": "stream",
          "name": "stdout",
          "text": [
            "Enter a number: 2\n",
            "2 is not a multiple of 5.\n"
          ]
        }
      ]
    },
    {
      "cell_type": "code",
      "source": [
        "char = \"aeiou\"\n",
        "\n",
        "input_char = input(\"Enter a character: \")\n",
        "\n",
        "if input_char.lower() in char:\n",
        "    print(f\"{input_char} is a vowel.\")\n",
        "else:\n",
        "    print(f\"{input_char} is not a vowel.\")"
      ],
      "metadata": {
        "colab": {
          "base_uri": "https://localhost:8080/"
        },
        "id": "0a-GGDuFe8uH",
        "outputId": "78dec131-ae3a-4d7f-ee5d-302b0a7a3d89"
      },
      "execution_count": null,
      "outputs": [
        {
          "output_type": "stream",
          "name": "stdout",
          "text": [
            "Enter a character: C\n",
            "C is not a vowel.\n"
          ]
        }
      ]
    },
    {
      "cell_type": "code",
      "source": [
        "# Determine if a person is eligible for a senior citizen discount (age 60+)\n",
        "age = int(input(\"Enter your age: \"))\n",
        "if age >= 60:\n",
        "    print(\"You are eligible for a senior citizen discount.\")\n",
        "else:\n",
        "    print(\"You are not eligible for a senior citizen discount.\")"
      ],
      "metadata": {
        "colab": {
          "base_uri": "https://localhost:8080/"
        },
        "id": "6wNadlR9kMwa",
        "outputId": "c6db170d-6b9e-4f61-eb44-4886ae101048"
      },
      "execution_count": null,
      "outputs": [
        {
          "output_type": "stream",
          "name": "stdout",
          "text": [
            "Enter your age: 63\n",
            "You are eligible for a senior citizen discount.\n"
          ]
        }
      ]
    },
    {
      "cell_type": "code",
      "source": [
        "# Check if a number is a single-digit number\n",
        "num = int(input(\"Enter a number: \"))\n",
        "if num >= 0 and num <= 9:\n",
        "    print(f\"{num} is a single-digit number.\")\n",
        "else:\n",
        "    print(f\"{num} is not a single-digit number.\")"
      ],
      "metadata": {
        "colab": {
          "base_uri": "https://localhost:8080/"
        },
        "id": "nPTUj02tkNV5",
        "outputId": "5d66dc13-b97b-435e-d3d4-6f9cbc64b3fb"
      },
      "execution_count": null,
      "outputs": [
        {
          "output_type": "stream",
          "name": "stdout",
          "text": [
            "Enter a number: 12\n",
            "12 is not a single-digit number.\n"
          ]
        }
      ]
    },
    {
      "cell_type": "code",
      "source": [
        "# Print \"Good Morning\" if the time is before 12 PM, otherwise print \"Good Afternoon\"\n",
        "time = int(input(\"Enter the time (in 24-hour format): \"))\n",
        "if time < 12:\n",
        "    print(\"Good Morning\")\n",
        "else:\n",
        "    print(\"Good Afternoon\")\n"
      ],
      "metadata": {
        "colab": {
          "base_uri": "https://localhost:8080/"
        },
        "id": "v5JyXDjokNXB",
        "outputId": "1471c076-3d51-4332-cd1f-f735c32c994b"
      },
      "execution_count": null,
      "outputs": [
        {
          "output_type": "stream",
          "name": "stdout",
          "text": [
            "Enter the time (in 24-hour format): 1\n",
            "Good Morning\n"
          ]
        }
      ]
    },
    {
      "cell_type": "code",
      "source": [
        "# Check if a string is empty or not\n",
        "input_string = input(\"Enter a string: \")\n",
        "if input_string == \"\":\n",
        "    print(\"The string is empty.\")\n",
        "else:\n",
        "    print(\"The string is not empty.\")"
      ],
      "metadata": {
        "colab": {
          "base_uri": "https://localhost:8080/"
        },
        "id": "0QQmvV7pkNcB",
        "outputId": "e1ff02da-70ad-4ded-888f-2ad7b554b62c"
      },
      "execution_count": null,
      "outputs": [
        {
          "output_type": "stream",
          "name": "stdout",
          "text": [
            "Enter a string: \n",
            "The string is empty.\n"
          ]
        }
      ]
    },
    {
      "cell_type": "code",
      "source": [
        "#Verify if a number is a perfect square\n",
        "import math\n",
        "num = int(input(\"Enter a number: \"))\n",
        "sqrt_num = math.sqrt(num)\n",
        "if sqrt_num.is_integer():\n",
        "    print(f\"{num} is a perfect square.\")\n",
        "else:\n",
        "    print(f\"{num} is not a perfect square.\")"
      ],
      "metadata": {
        "colab": {
          "base_uri": "https://localhost:8080/"
        },
        "id": "4HvjQej6kNdd",
        "outputId": "2471c7ca-f8b9-4c0a-cd8e-b9b6de0ecacb"
      },
      "execution_count": null,
      "outputs": [
        {
          "output_type": "stream",
          "name": "stdout",
          "text": [
            "Enter a number: 23\n",
            "23 is not a perfect square.\n"
          ]
        }
      ]
    },
    {
      "cell_type": "code",
      "source": [
        "#  Determine if a number is between 1 and 100\n",
        "num= int(input(\"Enter a number: \"))\n",
        "if num >= 1 and num <= 100:\n",
        "    print(f\"{num} is between 1 and 100.\")\n",
        "else:\n",
        "    print(\"Out of range\")"
      ],
      "metadata": {
        "colab": {
          "base_uri": "https://localhost:8080/"
        },
        "id": "UpBClq3dkNhd",
        "outputId": "9d09b2e2-8a03-4cbb-9788-031f81955564"
      },
      "execution_count": null,
      "outputs": [
        {
          "output_type": "stream",
          "name": "stdout",
          "text": [
            "Enter a number: 23\n",
            "23 is between 1 and 100.\n"
          ]
        }
      ]
    },
    {
      "cell_type": "code",
      "source": [
        "#  Print \"Weekend\" if the day is Saturday or Sunday; otherwise, print \"Weekday\"\n",
        "day = input(\"Enter the day\")\n",
        "if day == \"saturday\" or day == \"sunday\":\n",
        "    print(\"Weekend\")\n",
        "else:\n",
        "    print(\"Weekday\")"
      ],
      "metadata": {
        "colab": {
          "base_uri": "https://localhost:8080/"
        },
        "id": "PaioeLlikNiw",
        "outputId": "9c6d294b-c4d5-495f-c7b3-95604a3d9470"
      },
      "execution_count": null,
      "outputs": [
        {
          "output_type": "stream",
          "name": "stdout",
          "text": [
            "Enter the daysaturday\n",
            "Weekend\n"
          ]
        }
      ]
    },
    {
      "cell_type": "code",
      "source": [
        "#  Find if a given number is exactly divisible by both 3 and 7\n",
        "num = int(input(\"Enter a number: \"))\n",
        "if num % 3 == 0 and num % 7 == 0:\n",
        "    print(f\"{num} is exactly divisible by both 3 and 7.\")\n",
        "else:\n",
        "    print(f\"{num} is not divisible by both\")"
      ],
      "metadata": {
        "colab": {
          "base_uri": "https://localhost:8080/"
        },
        "id": "-LUEuDaykNnA",
        "outputId": "2c6433e4-e4fe-4d59-c1a0-4e8eace3856a"
      },
      "execution_count": null,
      "outputs": [
        {
          "output_type": "stream",
          "name": "stdout",
          "text": [
            "Enter a number: 45\n",
            "45 is not divisible by both\n"
          ]
        }
      ]
    },
    {
      "cell_type": "code",
      "source": [
        "# Check if the sum of two numbers is greater than 100\n",
        "a = int(input(\"Enter first number: \"))\n",
        "b = int(input(\"Enter second number: \"))\n",
        "if a + b > 100:\n",
        "    print(\"The sum is greater than 100.\")\n",
        "else:\n",
        "    print(\"the sum is not greter than 100\n",
        "\n",
        "    \")"
      ],
      "metadata": {
        "colab": {
          "base_uri": "https://localhost:8080/"
        },
        "id": "l-9zApzLkNoX",
        "outputId": "c8758114-034e-4858-fddc-0520b1a5066d"
      },
      "execution_count": null,
      "outputs": [
        {
          "output_type": "stream",
          "name": "stdout",
          "text": [
            "Enter first number: 12\n",
            "Enter second number: 13\n",
            "the sum is not greter than 100\n"
          ]
        }
      ]
    },
    {
      "cell_type": "code",
      "source": [
        "# Check if a number is divisible by 2 but not by 3\n",
        "num = int(input(\"Enter a number: \"))\n",
        "if num % 2 == 0 and num % 3 != 0:\n",
        "    print(f\"{num} is divisible by 2 but not by 3.\")\n",
        "else:\n",
        "    print(\"DOES NOT MEET CRITERIA\")"
      ],
      "metadata": {
        "colab": {
          "base_uri": "https://localhost:8080/"
        },
        "id": "FMqOgEPbkNtA",
        "outputId": "5ba10a62-f9c5-4cf0-edb4-e21ce5a57a82"
      },
      "execution_count": null,
      "outputs": [
        {
          "output_type": "stream",
          "name": "stdout",
          "text": [
            "Enter a number: 10\n",
            "10 is divisible by 2 but not by 3.\n"
          ]
        }
      ]
    },
    {
      "cell_type": "code",
      "source": [
        "#  Determine if a given alphabet is uppercase or lowercase\n",
        "char = input(\"Enter a character: \")\n",
        "if char.isupper():\n",
        "    print(f\"{char} is uppercase.\")\n",
        "else:\n",
        "    print(\"lowercase\")"
      ],
      "metadata": {
        "colab": {
          "base_uri": "https://localhost:8080/"
        },
        "id": "R0DFN1OMpQNl",
        "outputId": "16e7ca87-0307-42b6-b6bf-10ba6016bd87"
      },
      "execution_count": null,
      "outputs": [
        {
          "output_type": "stream",
          "name": "stdout",
          "text": [
            "Enter a character: HITESH\n",
            "HITESH is uppercase.\n"
          ]
        }
      ]
    },
    {
      "cell_type": "code",
      "source": [
        " # Check if a triangle is valid given three side lengths\n",
        " a = int(input(\"Enter first side length: \"))\n",
        "b = int(input(\"Enter second side length: \"))\n",
        "c = int(input(\"Enter third side length: \"))\n",
        "if a + b > c and b + c > a and c + a > b:\n",
        "    print(\"The triangle\")\n",
        "else:\n",
        "            print(\"The triangle is not valid.\")"
      ],
      "metadata": {
        "colab": {
          "base_uri": "https://localhost:8080/"
        },
        "id": "4RGpauezpQO2",
        "outputId": "0095ee48-f8e1-4fc1-98db-efc891e54da8"
      },
      "execution_count": null,
      "outputs": [
        {
          "output_type": "stream",
          "name": "stdout",
          "text": [
            "Enter first side length: 12\n",
            "Enter second side length: 13\n",
            "Enter third side length: 21\n",
            "The triangle\n"
          ]
        }
      ]
    },
    {
      "cell_type": "code",
      "source": [
        " #  Find the largest of three numbers\n",
        " a = int(input(\"Enter first number: \"))\n",
        "b = int(input(\"Enter second number: \"))\n",
        "c = int(input(\"Enter third number: \"))\n",
        "if a > b and a > c:\n",
        "    print(f\"{a} is the largest number.\")\n",
        "elif b > a and b > c:\n",
        "    print(f\"{b} is the largest number.\")\n",
        "else:\n",
        "    print(f\"{c} is the largest number.\")"
      ],
      "metadata": {
        "colab": {
          "base_uri": "https://localhost:8080/"
        },
        "id": "rn7l3880pQTe",
        "outputId": "fca9ac92-75a1-4f6e-f36a-e59ffb3a30d4"
      },
      "execution_count": null,
      "outputs": [
        {
          "output_type": "stream",
          "name": "stdout",
          "text": [
            "Enter first number: 1\n",
            "Enter second number: 2\n",
            "Enter third number: 4\n",
            "4 is the largest number.\n"
          ]
        }
      ]
    },
    {
      "cell_type": "code",
      "source": [
        "# Determine if a number is a prime number\n",
        "num = int(input(\"Enter a number: \"))\n",
        "if num > 1:\n",
        "    for i in range(2, num):\n",
        "        if num % i == 0:\n",
        "            print(f\"{num} is not a prime number.\")\n",
        "            break\n",
        "    else:\n",
        "        print(f\"{num} is a prime number.\")\n",
        "else:\n",
        "    print(f\"{num} is not a prime number.\")"
      ],
      "metadata": {
        "colab": {
          "base_uri": "https://localhost:8080/"
        },
        "id": "OZ7zKbU8pQU5",
        "outputId": "78e10e4b-3112-4599-84eb-0ab1b804b473"
      },
      "execution_count": null,
      "outputs": [
        {
          "output_type": "stream",
          "name": "stdout",
          "text": [
            "Enter a number: 12\n",
            "12 is not a prime number.\n"
          ]
        }
      ]
    },
    {
      "cell_type": "code",
      "source": [
        "# Check if a person is eligible for a driving license\n",
        "age = int(input(\"Enter your age: \"))\n",
        "if age >= 18:\n",
        "    print(\"You are eligible for a driving license.\")\n",
        "else:\n",
        "    print(\"You are not eligible for a driving license.\")"
      ],
      "metadata": {
        "colab": {
          "base_uri": "https://localhost:8080/"
        },
        "id": "njWLNh91pQZQ",
        "outputId": "15081bee-b77f-46db-e9d4-2da4878b6ecf"
      },
      "execution_count": null,
      "outputs": [
        {
          "output_type": "stream",
          "name": "stdout",
          "text": [
            "Enter your age: 12\n",
            "You are not eligible for a driving license.\n"
          ]
        }
      ]
    },
    {
      "cell_type": "code",
      "source": [
        "#  Determine if a triangle is equilateral, isosceles, or scalene\n",
        "a = int(input(\"Enter first side length: \"))\n",
        "b = int(input(\"Enter second side length: \"))\n",
        "c = int(input(\"Enter third side length: \"))\n",
        "if a == b == c:\n",
        "    print(\"Equilateral\")\n",
        "elif a == b or b == c or c == a:\n",
        "    print(\"Isosceles\")\n",
        "else:\n",
        "    print(\"Scalene\")\n"
      ],
      "metadata": {
        "colab": {
          "base_uri": "https://localhost:8080/"
        },
        "id": "AEAD-Ko2pQas",
        "outputId": "1d28237b-6c29-4658-a75c-8c5d2ce91a76"
      },
      "execution_count": null,
      "outputs": [
        {
          "output_type": "stream",
          "name": "stdout",
          "text": [
            "Enter first side length: 12\n",
            "Enter second side length: 12\n",
            "Enter third side length: 12\n",
            "Equilateral\n"
          ]
        }
      ]
    },
    {
      "cell_type": "code",
      "source": [
        "# Determine if a student passes or fails\n",
        "marks = int(input(\"Enter your marks: \"))\n",
        "if marks >= 40:\n",
        "    print(\"Pass\")\n",
        "else:\n",
        "    print(\"Fail\")"
      ],
      "metadata": {
        "colab": {
          "base_uri": "https://localhost:8080/"
        },
        "id": "RQVJJ-qCpQed",
        "outputId": "aa411582-c4ee-458a-adf2-01332a9266ae"
      },
      "execution_count": null,
      "outputs": [
        {
          "output_type": "stream",
          "name": "stdout",
          "text": [
            "Enter your marks: 54\n",
            "Pass\n"
          ]
        }
      ]
    },
    {
      "cell_type": "code",
      "source": [
        "num = input(\"Enter a number: \")\n",
        "if num == num[::-1]:\n",
        "    print(\"Palindrome\")\n",
        "else:\n",
        "    print(\"Not a Palindrome\")"
      ],
      "metadata": {
        "colab": {
          "base_uri": "https://localhost:8080/"
        },
        "id": "XtxwtWVMpQgB",
        "outputId": "258fb867-35f0-4523-b346-74b919c7cfce"
      },
      "execution_count": null,
      "outputs": [
        {
          "output_type": "stream",
          "name": "stdout",
          "text": [
            "Enter a number: 33\n",
            "Palindrome\n"
          ]
        }
      ]
    },
    {
      "cell_type": "code",
      "source": [
        "units = int(input(\"Enter electricity units consumed: \"))\n",
        "if units <= 100:\n",
        "    bill = units * 5\n",
        "elif units <= 300:\n",
        "    bill = (100 * 5) + (units - 100) * 10\n",
        "else:\n",
        "    bill = (100 * 5) + (200 * 10) + (units - 300) * 15\n",
        "print(\"Total Bill: ₹\", bill)"
      ],
      "metadata": {
        "colab": {
          "base_uri": "https://localhost:8080/"
        },
        "id": "AFkfxfG8sxv4",
        "outputId": "70d8c50b-c7b8-4688-8058-6dfddd5ee0ec"
      },
      "execution_count": null,
      "outputs": [
        {
          "output_type": "stream",
          "name": "stdout",
          "text": [
            "Enter electricity units consumed: 120\n",
            "Total Bill: ₹ 700\n"
          ]
        }
      ]
    },
    {
      "cell_type": "code",
      "source": [
        "# Find the grade of a student\n",
        "marks = int(input(\"Enter marks: \"))\n",
        "if marks >= 90:\n",
        "    print(\"Grade: A\")\n",
        "elif marks >= 80:\n",
        "    print(\"Grade: B\")\n",
        "elif marks >= 70:\n",
        "    print(\"Grade: C\")\n",
        "elif marks >= 60:\n",
        "    print(\"Grade: D\")\n",
        "elif marks >= 40:\n",
        "    print(\"Grade: E\")\n",
        "else:\n",
        "    print(\"Grade: F (Fail)\")"
      ],
      "metadata": {
        "colab": {
          "base_uri": "https://localhost:8080/"
        },
        "id": "F6tgYS_csxrB",
        "outputId": "fe66d44c-e929-497b-cb43-35c9e59c26aa"
      },
      "execution_count": null,
      "outputs": [
        {
          "output_type": "stream",
          "name": "stdout",
          "text": [
            "Enter marks: 89\n",
            "Grade: B\n"
          ]
        }
      ]
    },
    {
      "cell_type": "code",
      "source": [
        "#  Determine if a given date is valid\n",
        "import calendar\n",
        "day = int(input(\"Enter day: \"))\n",
        "month = int(input(\"Enter month: \"))\n",
        "year = int(input(\"Enter year: \"))\n",
        "if 1 <= month <= 12 and 1 <= day <= calendar.monthrange(year, month)[1]:\n",
        "    print(\"Valid date\")\n",
        "else:\n",
        "    print(\"Invalid date\")"
      ],
      "metadata": {
        "colab": {
          "base_uri": "https://localhost:8080/"
        },
        "id": "PvYif_80sxf7",
        "outputId": "6a037052-6410-44da-a29a-53ff078d8b93"
      },
      "execution_count": null,
      "outputs": [
        {
          "output_type": "stream",
          "name": "stdout",
          "text": [
            "Enter day: 12\n",
            "Enter month: 2\n",
            "Enter year: 2025\n",
            "Valid date\n"
          ]
        }
      ]
    },
    {
      "cell_type": "code",
      "source": [
        " # Check if a given time is AM or PM\n",
        "hour = int(input(\"Enter hour (24-hour format): \"))\n",
        "if hour < 12:\n",
        "    print(\"AM\")\n",
        "else:\n",
        "    print(\"PM\")"
      ],
      "metadata": {
        "colab": {
          "base_uri": "https://localhost:8080/"
        },
        "id": "_Q2irxWjsxV6",
        "outputId": "c2f3044f-8d21-4207-d37e-3dd52eafc352"
      },
      "execution_count": null,
      "outputs": [
        {
          "output_type": "stream",
          "name": "stdout",
          "text": [
            "Enter hour (24-hour format): 13\n",
            "PM\n"
          ]
        }
      ]
    },
    {
      "cell_type": "code",
      "source": [
        "# Check if a number is an Armstrong number\n",
        "num = input(\"Enter a number: \")\n",
        "power = len(num)\n",
        "if sum(int(digit) ** power for digit in num) == int(num):\n",
        "    print(\"Armstrong Number\")\n",
        "else:\n",
        "    print(\"Not an Armstrong Number\")"
      ],
      "metadata": {
        "colab": {
          "base_uri": "https://localhost:8080/"
        },
        "id": "yC9IK-BwsxT8",
        "outputId": "f68a8fd9-2cf5-44d1-b3f6-ad26f5b3a300"
      },
      "execution_count": null,
      "outputs": [
        {
          "output_type": "stream",
          "name": "stdout",
          "text": [
            "Enter a number: 12\n",
            "Not an Armstrong Number\n"
          ]
        }
      ]
    },
    {
      "cell_type": "code",
      "source": [
        "#Determine the type of quadrilateral\n",
        "a = int(input(\"Enter first side: \"))\n",
        "b = int(input(\"Enter second side: \"))\n",
        "c = int(input(\"Enter third side: \"))\n",
        "d = int(input(\"Enter fourth side: \"))\n",
        "if a == b == c == d:\n",
        "    print(\"Square\")\n",
        "elif a == c and b == d:\n",
        "    print(\"Rectangle\")\n",
        "else:\n",
        "    print(\"Other Quadrilateral\")"
      ],
      "metadata": {
        "colab": {
          "base_uri": "https://localhost:8080/"
        },
        "id": "6IuvNZugsxO5",
        "outputId": "90d1c3a9-440c-4e40-dbd7-129b2b9d6bbf"
      },
      "execution_count": null,
      "outputs": [
        {
          "output_type": "stream",
          "name": "stdout",
          "text": [
            "Enter first side: 12\n",
            "Enter second side: 13\n",
            "Enter third side: 32\n",
            "Enter fourth side: 11\n",
            "Other Quadrilateral\n"
          ]
        }
      ]
    },
    {
      "cell_type": "code",
      "source": [
        "# Implement a basic calculator\n",
        "a = float(input(\"Enter first number: \"))\n",
        "b = float(input(\"Enter second number: \"))\n",
        "op = input(\"Enter operation (+, -, *, /): \")\n",
        "if op == \"+\":\n",
        "    print(\"Result:\", a + b)\n",
        "elif op == \"-\":\n",
        "    print(\"Result:\", a - b)\n",
        "elif op == \"*\":\n",
        "    print(\"Result:\", a * b)\n",
        "elif op == \"/\":\n",
        "    print(\"Result:\", a / b)\n",
        "else:\n",
        "    print(\"Invalid operation\")"
      ],
      "metadata": {
        "colab": {
          "base_uri": "https://localhost:8080/"
        },
        "id": "mMJxffCAsxNa",
        "outputId": "9e706660-481b-48b9-ee0e-9bdbfe8db43e"
      },
      "execution_count": null,
      "outputs": [
        {
          "output_type": "stream",
          "name": "stdout",
          "text": [
            "Enter first number: 34\n",
            "Enter second number: 55\n",
            "Enter operation (+, -, *, /): +\n",
            "Result: 89.0\n"
          ]
        }
      ]
    },
    {
      "cell_type": "code",
      "source": [
        "#Check if a bank account balance is sufficient for withdrawal\n",
        "balance = float(input(\"Enter account balance: \"))\n",
        "withdraw = float(input(\"Enter withdrawal amount: \"))\n",
        "if balance >= withdraw:\n",
        "    print(\"Withdrawal successful\")\n",
        "else:\n",
        "    print(\"Insufficient funds\")"
      ],
      "metadata": {
        "colab": {
          "base_uri": "https://localhost:8080/"
        },
        "id": "j_hLNDvjsw_3",
        "outputId": "4bd0cd71-2dbe-4a80-f373-65a19414930e"
      },
      "execution_count": null,
      "outputs": [
        {
          "output_type": "stream",
          "name": "stdout",
          "text": [
            "Enter account balance: 1000\n",
            "Enter withdrawal amount: 900\n",
            "Withdrawal successful\n"
          ]
        }
      ]
    },
    {
      "cell_type": "code",
      "source": [
        "# Implement a temperature converter\n",
        "\n",
        "temp = float(input(\"Enter temperature: \"))\n",
        "unit = input(\"Enter unit (C/F): \").upper()\n",
        "if unit == \"C\":\n",
        "    print(\"Fahrenheit:\", (temp * 9/5) + 32)\n",
        "elif unit == \"F\":\n",
        "    print(\"Celsius:\", (temp - 32) * 5/9)\n",
        "else:\n",
        "    print(\"Invalid unit\")"
      ],
      "metadata": {
        "colab": {
          "base_uri": "https://localhost:8080/"
        },
        "id": "WAlD2ZtQvYYa",
        "outputId": "2739fd03-58ee-40c4-bd97-d7ba658e730c"
      },
      "execution_count": null,
      "outputs": [
        {
          "output_type": "stream",
          "name": "stdout",
          "text": [
            "Enter temperature: 120\n",
            "Enter unit (C/F): c\n",
            "Fahrenheit: 248.0\n"
          ]
        }
      ]
    },
    {
      "cell_type": "code",
      "source": [
        "# Check if a number lies within a range (50-100)\n",
        "num = int(input(\"Enter a number: \"))\n",
        "if 50 <= num <= 100:\n",
        "    print(\"Within range\")\n",
        "else:\n",
        "    print(\"Out of range\")"
      ],
      "metadata": {
        "colab": {
          "base_uri": "https://localhost:8080/"
        },
        "id": "zGyyXViVwPws",
        "outputId": "d77a81f8-10c8-48e4-9b24-41da896dc6d5"
      },
      "execution_count": null,
      "outputs": [
        {
          "output_type": "stream",
          "name": "stdout",
          "text": [
            "Enter a number: 102\n",
            "Out of range\n"
          ]
        }
      ]
    },
    {
      "cell_type": "code",
      "source": [
        "#Determine if a year is a century year\n",
        "year = int(input(\"Enter a year: \"))\n",
        "if year % 100 == 0:\n",
        "    print(\"Century Year\")\n",
        "else:\n",
        "    print(\"Not a Century Year\")"
      ],
      "metadata": {
        "colab": {
          "base_uri": "https://localhost:8080/"
        },
        "id": "Mg180OQqwPyU",
        "outputId": "81efe1cf-b056-4546-b736-1e5c3ab90c0a"
      },
      "execution_count": null,
      "outputs": [
        {
          "output_type": "stream",
          "name": "stdout",
          "text": [
            "Enter a year: 200\n",
            "Century Year\n"
          ]
        }
      ]
    },
    {
      "cell_type": "code",
      "source": [
        "#  Check if a number is a power of 2\n",
        "num = int(input(\"Enter a number: \"))\n",
        "if num > 0 and (num & (num - 1)) == 0:\n",
        "    print(\"Power of 2\")\n",
        "else:\n",
        "    print(\"Not a Power of 2\")"
      ],
      "metadata": {
        "colab": {
          "base_uri": "https://localhost:8080/"
        },
        "id": "Cj8QXMM3wP20",
        "outputId": "9f7f135c-8f5c-4425-b278-07cad3d8d803"
      },
      "execution_count": null,
      "outputs": [
        {
          "output_type": "stream",
          "name": "stdout",
          "text": [
            "Enter a number: 4\n",
            "Power of 2\n"
          ]
        }
      ]
    },
    {
      "cell_type": "code",
      "source": [
        "#Determine how many days a month has\n",
        "month = int(input(\"Enter month (1-12): \"))\n",
        "year = int(input(\"Enter year: \"))\n",
        "days = [31, 28 + (1 if (year % 4 == 0 and year % 100 != 0) or (year % 400 == 0) else 0), 31,\n",
        "30, 31, 30, 31, 31, 30, 31, 30, 31]\n",
        "print(\"Days:\", days[month - 1])"
      ],
      "metadata": {
        "colab": {
          "base_uri": "https://localhost:8080/"
        },
        "id": "FJIDXt5uwP4U",
        "outputId": "37e2ab6e-b220-4e3a-e82c-9b77617fdd39"
      },
      "execution_count": null,
      "outputs": [
        {
          "output_type": "stream",
          "name": "stdout",
          "text": [
            "Enter month (1-12): 3\n",
            "Enter year: 2025\n",
            "Days: 31\n"
          ]
        }
      ]
    },
    {
      "cell_type": "code",
      "source": [
        "#  Implement a ticket pricing system\n",
        "age = int(input(\"Enter age: \"))\n",
        "\n",
        "if age < 5:\n",
        "    print(\"Ticket Price: Free\")\n",
        "elif age >= 60:\n",
        "    print(\"Ticket Price: ₹50\")\n",
        "else:\n",
        "    print(\"Ticket Price: ₹100\")"
      ],
      "metadata": {
        "colab": {
          "base_uri": "https://localhost:8080/"
        },
        "id": "EunusoThwP8S",
        "outputId": "4f64bfd5-fbce-4b93-875f-0fe68526606d"
      },
      "execution_count": null,
      "outputs": [
        {
          "output_type": "stream",
          "name": "stdout",
          "text": [
            "Enter age: 15\n",
            "Ticket Price: ₹100\n"
          ]
        }
      ]
    },
    {
      "cell_type": "code",
      "source": [
        "# Convert a Roman numeral to an integer\n",
        "def roman_to_int(s):\n",
        "    roman = {'I': 1, 'V': 5, 'X': 10, 'L': 50, 'C': 100, 'D': 500, 'M': 1000}\n",
        "    total = 0\n",
        "    for i in range(len(s)):\n",
        "        if i > 0 and roman[s[i]] > roman[s[i - 1]]:\n",
        "            total += roman[s[i]] - 2 * roman[s[i - 1]]\n",
        "        else:\n",
        "            total += roman[s[i]]\n",
        "    return total\n",
        "\n",
        "num = input(\"Enter Roman numeral: \").upper()\n",
        "print(\"Integer:\", roman_to_int(num))"
      ],
      "metadata": {
        "colab": {
          "base_uri": "https://localhost:8080/"
        },
        "id": "7fS_6EHmwP-E",
        "outputId": "e25d7cc8-92cb-43cb-ddf7-0990a34d944b"
      },
      "execution_count": null,
      "outputs": [
        {
          "output_type": "stream",
          "name": "stdout",
          "text": [
            "Enter Roman numeral: IV\n",
            "Integer: 4\n"
          ]
        }
      ]
    },
    {
      "cell_type": "code",
      "source": [
        "#Determine zodiac sign based on birth date\n",
        "month = int(input(\"Enter birth month (1-12): \"))\n",
        "day = int(input(\"Enter birth day: \"))\n",
        "\n",
        "zodiac = [(\"Capricorn\", 20), (\"Aquarius\", 19), (\"Pisces\", 20), (\"Aries\", 20),\n",
        "          (\"Taurus\", 21), (\"Gemini\", 21), (\"Cancer\", 22), (\"Leo\", 22),\n",
        "          (\"Virgo\", 22), (\"Libra\", 23), (\"Scorpio\", 23), (\"Sagittarius\", 22), (\"Capricorn\", 31)]\n",
        "\n",
        "sign = zodiac[month - 1][0] if day <= zodiac[month - 1][1] else zodiac[month][0]\n",
        "print(\"Zodiac Sign:\", sign)"
      ],
      "metadata": {
        "colab": {
          "base_uri": "https://localhost:8080/"
        },
        "id": "kPzld9q8wQCa",
        "outputId": "022da87a-bc43-49b5-f414-0d2381093859"
      },
      "execution_count": null,
      "outputs": [
        {
          "output_type": "stream",
          "name": "stdout",
          "text": [
            "Enter birth month (1-12): 2\n",
            "Enter birth day: 8\n",
            "Zodiac Sign: Aquarius\n"
          ]
        }
      ]
    },
    {
      "cell_type": "code",
      "source": [
        "#Check if a number is a Harshad number\n",
        "num = int(input(\"Enter a number: \"))\n",
        "sum_digits = sum(int(digit) for digit in str(num))\n",
        "if num % sum_digits == 0:\n",
        "    print(\"Harshad Number\")\n",
        "else:\n",
        "    print(\"Not a Harshad Number\")"
      ],
      "metadata": {
        "colab": {
          "base_uri": "https://localhost:8080/"
        },
        "id": "-nh4rWwjyW6e",
        "outputId": "e2f5aba7-2c14-41dd-b59f-61ff8a40e860"
      },
      "execution_count": null,
      "outputs": [
        {
          "output_type": "stream",
          "name": "stdout",
          "text": [
            "Enter a number: 12\n",
            "Harshad Number\n"
          ]
        }
      ]
    },
    {
      "cell_type": "code",
      "source": [
        "# Validate an email format\n",
        "import re\n",
        "email = input(\"Enter email: \")\n",
        "if re.match(r\"^[\\w\\.-]+@[\\w\\.-]+\\.(com|org|net|edu)$\", email):\n",
        "  print(\"Valid Email\")\n",
        "else:\n",
        "    print(\"Invalid Email\")"
      ],
      "metadata": {
        "colab": {
          "base_uri": "https://localhost:8080/"
        },
        "id": "5ig0ksD0ycax",
        "outputId": "6cdd616a-2c7d-4ef2-b729-898cf32c9e65"
      },
      "execution_count": null,
      "outputs": [
        {
          "output_type": "stream",
          "name": "stdout",
          "text": [
            "Enter email: hbpateliya@gmail.com\n",
            "Valid Email\n"
          ]
        }
      ]
    },
    {
      "cell_type": "code",
      "source": [
        "#Implement a loan eligibility checker\n",
        "income = int(input(\"Enter monthly income: \"))\n",
        "credit_score = int(input(\"Enter credit score: \"))\n",
        "employed = input(\"Are you employed? (yes/no): \").lower()\n",
        "\n",
        "if income >= 25000 and credit_score >= 700 and employed == \"yes\":\n",
        "    print(\"Loan Approved\")\n",
        "else:\n",
        "    print(\"Loan Denied\")"
      ],
      "metadata": {
        "colab": {
          "base_uri": "https://localhost:8080/"
        },
        "id": "h5_1y5n4yclc",
        "outputId": "428fd5d6-e6b3-4e99-8fc4-9dca6b101eba"
      },
      "execution_count": null,
      "outputs": [
        {
          "output_type": "stream",
          "name": "stdout",
          "text": [
            "Enter monthly income: 120000\n",
            "Enter credit score: 700\n",
            "Are you employed? (yes/no): yes\n",
            "Loan Approved\n"
          ]
        }
      ]
    },
    {
      "cell_type": "code",
      "source": [],
      "metadata": {
        "id": "Wed519CUycm3"
      },
      "execution_count": null,
      "outputs": []
    },
    {
      "cell_type": "code",
      "source": [],
      "metadata": {
        "id": "jJCPFzU9ycrk"
      },
      "execution_count": null,
      "outputs": []
    },
    {
      "cell_type": "code",
      "source": [],
      "metadata": {
        "id": "VAB4zDn6yctG"
      },
      "execution_count": null,
      "outputs": []
    }
  ]
}